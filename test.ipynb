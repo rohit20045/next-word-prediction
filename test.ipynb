{
 "cells": [
  {
   "cell_type": "code",
   "execution_count": 6,
   "metadata": {},
   "outputs": [],
   "source": [
    "import tensorflow\n",
    "import keras\n",
    "from keras.models import load_model\n",
    "import pickle\n",
    "import numpy as np"
   ]
  },
  {
   "cell_type": "code",
   "execution_count": 7,
   "metadata": {},
   "outputs": [],
   "source": [
    "model = load_model('next_word.h5')\n",
    "tokenizer = pickle.load(open('token.pkl','rb'))\n",
    "\n",
    "def Predict_Next_Word(model,tokenizer,text):\n",
    "  sequence = tokenizer.texts_to_sequences([text])\n",
    "  sequence = np.array(sequence)\n",
    "  preds = np.argmax(model.predict(sequence))\n",
    "  predicted_word = \"\"\n",
    "\n",
    "  for key,val in tokenizer.word_index.items():\n",
    "    if val == preds:\n",
    "      predicted_word = key\n",
    "      break\n",
    "    \n",
    "  print(predicted_word)\n",
    "  return predicted_word"
   ]
  },
  {
   "cell_type": "code",
   "execution_count": 8,
   "metadata": {},
   "outputs": [
    {
     "name": "stdout",
     "output_type": "stream",
     "text": [
      "['the', 'lord', 'of']\n",
      "1/1 [==============================] - 1s 1s/step\n",
      "the\n",
      "Ans :  the\n",
      "['name', 'is', 'known']\n",
      "1/1 [==============================] - 0s 28ms/step\n",
      "to\n",
      "Ans :  to\n"
     ]
    }
   ],
   "source": [
    "while(True):\n",
    "  text = input(\"Enter your line : \")\n",
    "\n",
    "  if text == \"0\":\n",
    "    print(\"Stopped\")\n",
    "    break\n",
    "  else:\n",
    "    try:\n",
    "      text = text.split(\" \")\n",
    "      text = text[-3:]\n",
    "\n",
    "      print(text)\n",
    "      ans = Predict_Next_Word(model,tokenizer,text)\n",
    "      print(\"Ans : \",ans)\n",
    "    except Exception as e:\n",
    "      print(\"Error : \",e)\n",
    "      continue"
   ]
  }
 ],
 "metadata": {
  "kernelspec": {
   "display_name": "tf",
   "language": "python",
   "name": "python3"
  },
  "language_info": {
   "codemirror_mode": {
    "name": "ipython",
    "version": 3
   },
   "file_extension": ".py",
   "mimetype": "text/x-python",
   "name": "python",
   "nbconvert_exporter": "python",
   "pygments_lexer": "ipython3",
   "version": "3.9.18"
  }
 },
 "nbformat": 4,
 "nbformat_minor": 2
}
